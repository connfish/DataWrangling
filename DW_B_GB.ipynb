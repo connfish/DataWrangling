{
 "cells": [
  {
   "cell_type": "markdown",
   "id": "68488d05",
   "metadata": {},
   "source": [
    "# Data Wrangling using Pandas"
   ]
  },
  {
   "cell_type": "markdown",
   "id": "19d9c609",
   "metadata": {},
   "source": [
    "## Dataset Description: Google Books\n",
    "This data was acquired from Google Books store. Google API was used to acquire the data. Nine features were gathered for each book in the data set. the column names mostly are self explanatory nevertheless, it will be explained below.\n",
    "\n",
    "- title : the title of the book.\n",
    "- authors : name of the authors of the books (might include more than one author).\n",
    "- language : the language of the book\n",
    "- generes\\categories : the categories associated with the book (by Google store)\n",
    "- rating\\averageRating : the average rating of each book out of 5.\n",
    "- maturityRating : wheather the content of the book is for mature or NOT MATURE audience.\n",
    "- publisher : the name of the publisher.\n",
    "- publishedDate : when the book was published.\n",
    "- pageCount : number of pages of the books.\n",
    "- voters : the number of voters to the book.\n",
    "- ISBN : the unique identifier for each book.\n",
    "- description : brief introductory description of the book.\n",
    "- price : price of the book on the google books store\n",
    "- currency : the currency of the price in the google books store."
   ]
  },
  {
   "cell_type": "markdown",
   "id": "da7715e4",
   "metadata": {},
   "source": [
    "### Tasks:\n",
    "- Load the dataset\n",
    "  - Load google_books_1299.csv into a pandas DataFrame.\n",
    "- Analyze genre distribution\n",
    "  - Display the value counts of the generes column to understand the distribution of book genres.\n",
    "- Process genres\n",
    "  - Split the generes column by the comma (,) delimiter.\n",
    "  - Compute the frequency of each genre.\n",
    "  - Retain the top 10 most frequent genres, and replace all other genres with Other.\n",
    "  - If multiple Other genres appear in the same row, retain only one Other.\n",
    "- Explode genres\n",
    "  - Transform the generes column so that each row contains exactly one genre.\n",
    "  - Example: A row with generes of Fiction, Mystery will be split into two rows: one with Fiction and the other with Mystery. Refer to the df.explode() documentation for - guidance.\n",
    "- Hyphenate ISBN numbers\n",
    "  - Use the isbnid library to hyphenate the ISBN numbers in the ISBN column. Refer to the isbn.ipynb notebook as an example. Skip any records with invalid ISBN numbers.\n",
    "- Extract ISBN components\n",
    "  - Create two new columns:\n",
    "    - registration_group: the second part of the hyphenated ISBN.\n",
    "    - publisher_code: the third part of the hyphenated ISBN.\n",
    "    - Example: For ISBN 978-1-61262-686-4, registration_group is 1 and publisher_code is 61262.\n",
    "- Create a pivot table of ratings\n",
    "  - Generate a pivot table where:\n",
    "    - Rows correspond to registration_group.\n",
    "    - Columns correspond to generes (including Other).\n",
    "    - Values are the average rating for each combination, rounded to two decimal places.\n",
    "    - If no ratings exist for a particular combination, fill the value with 0."
   ]
  },
  {
   "cell_type": "markdown",
   "id": "e244148a",
   "metadata": {},
   "source": [
    "### Setup Code (Please run this first to set up the environment)"
   ]
  },
  {
   "cell_type": "markdown",
   "id": "22845db9",
   "metadata": {},
   "source": [
    "If you haven't install `isbnid` yet, you may use the following command:\n",
    "```bash\n",
    "pip install isbnid\n",
    "```"
   ]
  },
  {
   "cell_type": "code",
   "execution_count": null,
   "id": "d0330f17",
   "metadata": {},
   "outputs": [],
   "source": [
    "import numpy as np\n",
    "import pandas as pd\n",
    "import isbn\n",
    "from collections import Counter, defaultdict"
   ]
  },
  {
   "cell_type": "code",
   "execution_count": null,
   "id": "cee93474",
   "metadata": {},
   "outputs": [],
   "source": [
    "if __name__ == \"__main__\":\n",
    "    CSV_PATH = 'google_books_1299.csv'"
   ]
  },
  {
   "cell_type": "markdown",
   "id": "70150b8a",
   "metadata": {},
   "source": [
    "### Load Dataset"
   ]
  },
  {
   "cell_type": "code",
   "execution_count": null,
   "id": "c821d5c5",
   "metadata": {},
   "outputs": [],
   "source": [
    "def load_data(csv_path):\n",
    "    \"\"\"\n",
    "    Load the Google Books dataset from a CSV file into a Pandas DataFrame.\n",
    "    IN: csv_path, str, path to the CSV file\n",
    "    OUT: google_books_df, pd.DataFrame\n",
    "    \"\"\"\n",
    "    # Your Code Here\n",
    "    return google_books_df"
   ]
  },
  {
   "cell_type": "code",
   "execution_count": null,
   "id": "73950adc",
   "metadata": {},
   "outputs": [],
   "source": [
    "if __name__ == \"__main__\":\n",
    "    google_books_df = load_data(CSV_PATH)\n",
    "    display(google_books_df)"
   ]
  },
  {
   "cell_type": "markdown",
   "id": "9ece4e0c",
   "metadata": {},
   "source": [
    "### Analyze genre distribution"
   ]
  },
  {
   "cell_type": "code",
   "execution_count": null,
   "id": "928db9f6",
   "metadata": {},
   "outputs": [],
   "source": [
    "def get_genre_distribution(df):\n",
    "    \"\"\"\n",
    "    Display the value counts of the generes column\n",
    "    IN: df, pd.DataFrame, dataframe containing book information\n",
    "    OUT: genre_counts, dict, dictionary with genres as keys and their frequencies as values\n",
    "    \"\"\"\n",
    "    # Your Code Here\n",
    "    return genre_counts"
   ]
  },
  {
   "cell_type": "code",
   "execution_count": null,
   "id": "759d6a4d",
   "metadata": {},
   "outputs": [],
   "source": [
    "if __name__ == \"__main__\":\n",
    "    genre_distribution = get_genre_distribution(google_books_df.copy())\n",
    "    for genre, count in genre_distribution.items():\n",
    "        print(f\"{genre}: {count}\")"
   ]
  },
  {
   "cell_type": "markdown",
   "id": "1e887276",
   "metadata": {},
   "source": [
    "### Process genres"
   ]
  },
  {
   "cell_type": "markdown",
   "id": "635579e2",
   "metadata": {},
   "source": [
    "- Since the missing values in genres column were filled with string `none`, ensure that `none` is replaced by na, and not counted as a genre.\n",
    "- You may want to replace `&amp,` with `&`. Else it may cause mis-splitting of genres.\n",
    "- Ensure that if multiple 'Other' genres appear in the same row, only one 'Other' is retained."
   ]
  },
  {
   "cell_type": "code",
   "execution_count": null,
   "id": "b1dfe4ae",
   "metadata": {},
   "outputs": [],
   "source": [
    "def process_genres(df):\n",
    "    \"\"\"\n",
    "    Process the generes column\n",
    "    IN: df, pd.DataFrame, dataframe containing book information\n",
    "    OUT: df, pd.DataFrame, dataframe with processed generes\n",
    "    \"\"\"\n",
    "    # Replace 'none' with NaN\n",
    "    # Your Code Here\n",
    "\n",
    "    # Replace '&amp,' with '&'\n",
    "    # Your Code Here\n",
    "\n",
    "    # Split the generes column by the comma (,) delimiter\n",
    "    # Your Code Here\n",
    "    \n",
    "    # Compute the frequency of each genre\n",
    "    # Your Code Here\n",
    "    \n",
    "    # Retain the top 10 most frequent genres\n",
    "    # Your Code Here\n",
    "    \n",
    "    # Replace all other genres with Other\n",
    "    # Your Code Here\n",
    "    return df"
   ]
  },
  {
   "cell_type": "code",
   "execution_count": null,
   "id": "dd1c78ec",
   "metadata": {},
   "outputs": [],
   "source": [
    "if __name__ == \"__main__\":\n",
    "    google_books_processed_genres = process_genres(google_books_df.copy())\n",
    "    display(google_books_processed_genres)"
   ]
  },
  {
   "cell_type": "markdown",
   "id": "b1713fff",
   "metadata": {},
   "source": [
    "### Explode genres"
   ]
  },
  {
   "cell_type": "code",
   "execution_count": null,
   "id": "5d2a8e61",
   "metadata": {},
   "outputs": [],
   "source": [
    "def explode_genres(df):\n",
    "    \"\"\"\n",
    "    Transform the generes column so that each row contains exactly one genre\n",
    "    IN: df, pd.DataFrame, dataframe containing book information\n",
    "    OUT: df, pd.DataFrame, dataframe with exploded generes\n",
    "    \"\"\"\n",
    "    # Your Code Here\n",
    "    return df"
   ]
  },
  {
   "cell_type": "code",
   "execution_count": null,
   "id": "a33cbbe2",
   "metadata": {},
   "outputs": [],
   "source": [
    "if __name__ == \"__main__\":\n",
    "    google_books_exploded = explode_genres(google_books_processed_genres.copy())\n",
    "    display(google_books_exploded)"
   ]
  },
  {
   "cell_type": "markdown",
   "id": "fc448dea",
   "metadata": {},
   "source": [
    "### Hyphenate ISBN numbers"
   ]
  },
  {
   "cell_type": "markdown",
   "id": "a2e150c2",
   "metadata": {},
   "source": [
    "- Be careful that some ISBN values are not valid. For non-valid ISBN values, you can convert them to NaN.\n",
    "- A typical usage of `isbnid` library is as follows:\n",
    "    ```python\n",
    "    import isbn # note that the import is 'isbn', not 'isbnid'\n",
    "    isbn_val = isbn.ISBN('9781612626864')\n",
    "    isbn_val.hyphen()\n",
    "    ```"
   ]
  },
  {
   "cell_type": "code",
   "execution_count": null,
   "id": "fb82ae67",
   "metadata": {},
   "outputs": [],
   "source": [
    "def hyphenate_isbn(df):\n",
    "    \"\"\"\n",
    "    Hyphenate the ISBN numbers in the ISBN column\n",
    "    IN: df, pd.DataFrame, dataframe containing book information\n",
    "    OUT: df, pd.DataFrame, dataframe with hyphenated ISBNs\n",
    "    \"\"\"\n",
    "    # Your Code Here\n",
    "    return df"
   ]
  },
  {
   "cell_type": "code",
   "execution_count": null,
   "id": "f57e5260",
   "metadata": {},
   "outputs": [],
   "source": [
    "if __name__ == \"__main__\":\n",
    "    google_books_hyphenated = hyphenate_isbn(google_books_exploded.copy())\n",
    "    display(google_books_hyphenated)"
   ]
  },
  {
   "cell_type": "markdown",
   "id": "7f3181e6",
   "metadata": {},
   "source": [
    "### Extract ISBN components"
   ]
  },
  {
   "cell_type": "markdown",
   "id": "7f178312",
   "metadata": {},
   "source": [
    "- Make sure to skip rows with invalid ISBN numbers."
   ]
  },
  {
   "cell_type": "code",
   "execution_count": null,
   "id": "4055dbe6",
   "metadata": {},
   "outputs": [],
   "source": [
    "def extract_isbn_components(df):\n",
    "    \"\"\"\n",
    "    Create two new columns: registration_group and publisher_code\n",
    "    IN: df, pd.DataFrame, dataframe containing book information\n",
    "    OUT: df, pd.DataFrame, dataframe with new ISBN component columns\n",
    "    \"\"\"\n",
    "    # Mask to filter out rows with valid ISBNs\n",
    "    # Your Code Here\n",
    "\n",
    "    # Update registration_group and publisher_code only for valid ISBNs\n",
    "    # Your Code Here\n",
    "\n",
    "    return df"
   ]
  },
  {
   "cell_type": "code",
   "execution_count": null,
   "id": "621a88bf",
   "metadata": {},
   "outputs": [],
   "source": [
    "if __name__ == \"__main__\":\n",
    "    google_books_with_isbn_components = extract_isbn_components(google_books_hyphenated.copy())\n",
    "    display(google_books_with_isbn_components)"
   ]
  },
  {
   "cell_type": "markdown",
   "id": "931e389e",
   "metadata": {},
   "source": [
    "### Create a pivot table of ratings"
   ]
  },
  {
   "cell_type": "markdown",
   "id": "4f724265",
   "metadata": {},
   "source": [
    "- Round the values to two decimal places."
   ]
  },
  {
   "cell_type": "code",
   "execution_count": null,
   "id": "ba9b828f",
   "metadata": {},
   "outputs": [],
   "source": [
    "def create_rating_pivot_table(df):\n",
    "    \"\"\"\n",
    "    Generate a pivot table of ratings\n",
    "    IN: df, pd.DataFrame, dataframe containing book information\n",
    "    OUT: pivot_table, pd.DataFrame, pivot table of ratings\n",
    "    \"\"\"\n",
    "    # Your Code Here\n",
    "    return pivot_table"
   ]
  },
  {
   "cell_type": "code",
   "execution_count": null,
   "id": "d0bd3c29",
   "metadata": {},
   "outputs": [],
   "source": [
    "if __name__ == \"__main__\":\n",
    "    rating_pivot_table = create_rating_pivot_table(google_books_with_isbn_components.copy())\n",
    "    display(rating_pivot_table)"
   ]
  },
  {
   "cell_type": "markdown",
   "id": "c3b96d94",
   "metadata": {},
   "source": [
    "### DataFrame Schema"
   ]
  },
  {
   "cell_type": "code",
   "execution_count": null,
   "id": "cd9bf670",
   "metadata": {},
   "outputs": [],
   "source": [
    "if __name__ == \"__main__\":\n",
    "    google_books_processed_genres.info()"
   ]
  },
  {
   "cell_type": "code",
   "execution_count": null,
   "id": "3fe02103",
   "metadata": {},
   "outputs": [],
   "source": [
    "if __name__ == \"__main__\":\n",
    "    google_books_exploded.info()"
   ]
  },
  {
   "cell_type": "code",
   "execution_count": null,
   "id": "4c632744",
   "metadata": {},
   "outputs": [],
   "source": [
    "if __name__ == \"__main__\":\n",
    "    google_books_hyphenated.info()"
   ]
  },
  {
   "cell_type": "code",
   "execution_count": null,
   "id": "5ffefc55",
   "metadata": {},
   "outputs": [],
   "source": [
    "if __name__ == \"__main__\":\n",
    "    google_books_with_isbn_components.info()"
   ]
  },
  {
   "cell_type": "code",
   "execution_count": null,
   "id": "bb80fe3f",
   "metadata": {},
   "outputs": [],
   "source": [
    "if __name__ == \"__main__\":\n",
    "    rating_pivot_table.info()"
   ]
  }
 ],
 "metadata": {
  "kernelspec": {
   "display_name": ".venv",
   "language": "python",
   "name": "python3"
  },
  "language_info": {
   "codemirror_mode": {
    "name": "ipython",
    "version": 3
   },
   "file_extension": ".py",
   "mimetype": "text/x-python",
   "name": "python",
   "nbconvert_exporter": "python",
   "pygments_lexer": "ipython3",
   "version": "3.12.4"
  }
 },
 "nbformat": 4,
 "nbformat_minor": 5
}
