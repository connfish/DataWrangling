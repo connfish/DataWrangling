{
 "cells": [
  {
   "cell_type": "markdown",
   "id": "ce735887",
   "metadata": {},
   "source": [
    "### Install the `isbnid` package if you haven't already done so:"
   ]
  },
  {
   "cell_type": "code",
   "execution_count": 1,
   "id": "0899a5b7",
   "metadata": {},
   "outputs": [
    {
     "name": "stdout",
     "output_type": "stream",
     "text": [
      "Collecting isbnid\n",
      "  Downloading isbnid-0.4.6.tar.gz (11 kB)\n",
      "  Preparing metadata (setup.py): started\n",
      "  Preparing metadata (setup.py): finished with status 'done'\n",
      "Building wheels for collected packages: isbnid\n",
      "  Building wheel for isbnid (setup.py): started\n",
      "  Building wheel for isbnid (setup.py): finished with status 'done'\n",
      "  Created wheel for isbnid: filename=isbnid-0.4.6-py3-none-any.whl size=12602 sha256=3d19890adb44d5c72f5e5e26e89db3273a785d8144a475320a63ac0b36d70b2e\n",
      "  Stored in directory: c:\\users\\cjfis\\appdata\\local\\pip\\cache\\wheels\\6d\\22\\b3\\b87fa5e06eb144b69f4ce28801930e9a7eca2b9a72796576d9\n",
      "Successfully built isbnid\n",
      "Installing collected packages: isbnid\n",
      "Successfully installed isbnid-0.4.6\n",
      "Note: you may need to restart the kernel to use updated packages.\n"
     ]
    },
    {
     "name": "stderr",
     "output_type": "stream",
     "text": [
      "  DEPRECATION: Building 'isbnid' using the legacy setup.py bdist_wheel mechanism, which will be removed in a future version. pip 25.3 will enforce this behaviour change. A possible replacement is to use the standardized build interface by setting the `--use-pep517` option, (possibly combined with `--no-build-isolation`), or adding a `pyproject.toml` file to the source tree of 'isbnid'. Discussion can be found at https://github.com/pypa/pip/issues/6334\n"
     ]
    }
   ],
   "source": [
    "%pip install isbnid\n"
   ]
  },
  {
   "cell_type": "markdown",
   "id": "2e54e36d",
   "metadata": {},
   "source": [
    "### Usage Sample"
   ]
  },
  {
   "cell_type": "code",
   "execution_count": 2,
   "id": "725df560",
   "metadata": {},
   "outputs": [],
   "source": [
    "import isbn"
   ]
  },
  {
   "cell_type": "code",
   "execution_count": 3,
   "id": "f55540c1",
   "metadata": {},
   "outputs": [
    {
     "data": {
      "text/plain": [
       "'978-1-61262-686-4'"
      ]
     },
     "execution_count": 3,
     "metadata": {},
     "output_type": "execute_result"
    }
   ],
   "source": [
    "isbnid = isbn.ISBN('9781612626864')\n",
    "isbnid.hyphen()"
   ]
  }
 ],
 "metadata": {
  "kernelspec": {
   "display_name": "base",
   "language": "python",
   "name": "python3"
  },
  "language_info": {
   "codemirror_mode": {
    "name": "ipython",
    "version": 3
   },
   "file_extension": ".py",
   "mimetype": "text/x-python",
   "name": "python",
   "nbconvert_exporter": "python",
   "pygments_lexer": "ipython3",
   "version": "3.12.11"
  }
 },
 "nbformat": 4,
 "nbformat_minor": 5
}
