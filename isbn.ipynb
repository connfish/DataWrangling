{
 "cells": [
  {
   "cell_type": "markdown",
   "id": "ce735887",
   "metadata": {},
   "source": [
    "### Install the `isbnid` package if you haven't already done so:"
   ]
  },
  {
   "cell_type": "code",
   "execution_count": 1,
   "id": "0899a5b7",
   "metadata": {},
   "outputs": [
    {
     "name": "stdout",
     "output_type": "stream",
     "text": [
      "Requirement already satisfied: isbnid in d:\\users\\endle\\desktop\\439\\modules\\lecture 6\\notebooks\\.venv\\lib\\site-packages (0.4.6)\n",
      "Note: you may need to restart the kernel to use updated packages.\n"
     ]
    }
   ],
   "source": [
    "%pip install isbnid\n"
   ]
  },
  {
   "cell_type": "markdown",
   "id": "2e54e36d",
   "metadata": {},
   "source": [
    "### Usage Sample"
   ]
  },
  {
   "cell_type": "code",
   "execution_count": 2,
   "id": "725df560",
   "metadata": {},
   "outputs": [],
   "source": [
    "import isbn"
   ]
  },
  {
   "cell_type": "code",
   "execution_count": 3,
   "id": "f55540c1",
   "metadata": {},
   "outputs": [
    {
     "data": {
      "text/plain": [
       "'978-1-61262-686-4'"
      ]
     },
     "execution_count": 3,
     "metadata": {},
     "output_type": "execute_result"
    }
   ],
   "source": [
    "isbnid = isbn.ISBN('9781612626864')\n",
    "isbnid.hyphen()"
   ]
  }
 ],
 "metadata": {
  "kernelspec": {
   "display_name": ".venv",
   "language": "python",
   "name": "python3"
  },
  "language_info": {
   "codemirror_mode": {
    "name": "ipython",
    "version": 3
   },
   "file_extension": ".py",
   "mimetype": "text/x-python",
   "name": "python",
   "nbconvert_exporter": "python",
   "pygments_lexer": "ipython3",
   "version": "3.11.4"
  }
 },
 "nbformat": 4,
 "nbformat_minor": 5
}
